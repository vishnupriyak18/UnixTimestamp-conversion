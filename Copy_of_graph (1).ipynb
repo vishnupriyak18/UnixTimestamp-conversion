{
  "nbformat": 4,
  "nbformat_minor": 0,
  "metadata": {
    "kernelspec": {
      "display_name": "Python 3",
      "language": "python",
      "name": "python3"
    },
    "language_info": {
      "codemirror_mode": {
        "name": "ipython",
        "version": 3
      },
      "file_extension": ".py",
      "mimetype": "text/x-python",
      "name": "python",
      "nbconvert_exporter": "python",
      "pygments_lexer": "ipython3",
      "version": "3.8.5"
    },
    "colab": {
      "name": "Copy of graph.ipynb",
      "provenance": [],
      "collapsed_sections": []
    }
  },
  "cells": [
    {
      "cell_type": "code",
      "metadata": {
        "id": "BKzvna0TJfog"
      },
      "source": [
        "\n",
        "import matplotlib\n",
        "from matplotlib import pyplot as plt\n",
        "%matplotlib inline\n",
        "import pandas as pd\n",
        "import seaborn as sns\n"
      ],
      "execution_count": null,
      "outputs": []
    },
    {
      "cell_type": "code",
      "metadata": {
        "id": "1Vn1oIO0Jfov"
      },
      "source": [
        "sns.set(color_codes=True)\n",
        "import warnings\n",
        "warnings.simplefilter(action=\"ignore\", category=FutureWarning)"
      ],
      "execution_count": null,
      "outputs": []
    },
    {
      "cell_type": "code",
      "metadata": {
        "colab": {
          "base_uri": "https://localhost:8080/",
          "height": 419
        },
        "id": "oksvirDMJfoz",
        "outputId": "3a8c688d-3411-4243-a6f2-da78535c7284"
      },
      "source": [
        "f = pd.read_csv('/content/Tempcomp.csv')\n",
        "f\n"
      ],
      "execution_count": null,
      "outputs": [
        {
          "output_type": "execute_result",
          "data": {
            "text/html": [
              "<div>\n",
              "<style scoped>\n",
              "    .dataframe tbody tr th:only-of-type {\n",
              "        vertical-align: middle;\n",
              "    }\n",
              "\n",
              "    .dataframe tbody tr th {\n",
              "        vertical-align: top;\n",
              "    }\n",
              "\n",
              "    .dataframe thead th {\n",
              "        text-align: right;\n",
              "    }\n",
              "</style>\n",
              "<table border=\"1\" class=\"dataframe\">\n",
              "  <thead>\n",
              "    <tr style=\"text-align: right;\">\n",
              "      <th></th>\n",
              "      <th>Date_Time</th>\n",
              "      <th>Temp1</th>\n",
              "      <th>Temp2</th>\n",
              "      <th>Temp3</th>\n",
              "      <th>Temp4</th>\n",
              "      <th>Temp1-Temp3</th>\n",
              "      <th>Temp1-Temp4</th>\n",
              "    </tr>\n",
              "  </thead>\n",
              "  <tbody>\n",
              "    <tr>\n",
              "      <th>0</th>\n",
              "      <td>20-07-2021 14:28</td>\n",
              "      <td>NaN</td>\n",
              "      <td>NaN</td>\n",
              "      <td>5.0</td>\n",
              "      <td>NaN</td>\n",
              "      <td>NaN</td>\n",
              "      <td>NaN</td>\n",
              "    </tr>\n",
              "    <tr>\n",
              "      <th>1</th>\n",
              "      <td>20-07-2021 14:29</td>\n",
              "      <td>NaN</td>\n",
              "      <td>NaN</td>\n",
              "      <td>4.0</td>\n",
              "      <td>NaN</td>\n",
              "      <td>NaN</td>\n",
              "      <td>NaN</td>\n",
              "    </tr>\n",
              "    <tr>\n",
              "      <th>2</th>\n",
              "      <td>20-07-2021 14:33</td>\n",
              "      <td>NaN</td>\n",
              "      <td>NaN</td>\n",
              "      <td>3.0</td>\n",
              "      <td>NaN</td>\n",
              "      <td>NaN</td>\n",
              "      <td>NaN</td>\n",
              "    </tr>\n",
              "    <tr>\n",
              "      <th>3</th>\n",
              "      <td>20-07-2021 14:33</td>\n",
              "      <td>NaN</td>\n",
              "      <td>NaN</td>\n",
              "      <td>3.0</td>\n",
              "      <td>NaN</td>\n",
              "      <td>NaN</td>\n",
              "      <td>NaN</td>\n",
              "    </tr>\n",
              "    <tr>\n",
              "      <th>4</th>\n",
              "      <td>20-07-2021 14:34</td>\n",
              "      <td>NaN</td>\n",
              "      <td>NaN</td>\n",
              "      <td>3.0</td>\n",
              "      <td>NaN</td>\n",
              "      <td>NaN</td>\n",
              "      <td>NaN</td>\n",
              "    </tr>\n",
              "    <tr>\n",
              "      <th>...</th>\n",
              "      <td>...</td>\n",
              "      <td>...</td>\n",
              "      <td>...</td>\n",
              "      <td>...</td>\n",
              "      <td>...</td>\n",
              "      <td>...</td>\n",
              "      <td>...</td>\n",
              "    </tr>\n",
              "    <tr>\n",
              "      <th>8172</th>\n",
              "      <td>17-08-2021 12:44</td>\n",
              "      <td>NaN</td>\n",
              "      <td>NaN</td>\n",
              "      <td>NaN</td>\n",
              "      <td>-1.0</td>\n",
              "      <td>NaN</td>\n",
              "      <td>NaN</td>\n",
              "    </tr>\n",
              "    <tr>\n",
              "      <th>8173</th>\n",
              "      <td>17-08-2021 13:14</td>\n",
              "      <td>NaN</td>\n",
              "      <td>NaN</td>\n",
              "      <td>NaN</td>\n",
              "      <td>-1.0</td>\n",
              "      <td>NaN</td>\n",
              "      <td>NaN</td>\n",
              "    </tr>\n",
              "    <tr>\n",
              "      <th>8174</th>\n",
              "      <td>17-08-2021 13:21</td>\n",
              "      <td>NaN</td>\n",
              "      <td>NaN</td>\n",
              "      <td>NaN</td>\n",
              "      <td>-1.0</td>\n",
              "      <td>NaN</td>\n",
              "      <td>NaN</td>\n",
              "    </tr>\n",
              "    <tr>\n",
              "      <th>8175</th>\n",
              "      <td>17-08-2021 14:13</td>\n",
              "      <td>NaN</td>\n",
              "      <td>NaN</td>\n",
              "      <td>0.0</td>\n",
              "      <td>NaN</td>\n",
              "      <td>NaN</td>\n",
              "      <td>NaN</td>\n",
              "    </tr>\n",
              "    <tr>\n",
              "      <th>8176</th>\n",
              "      <td>17-08-2021 15:04</td>\n",
              "      <td>NaN</td>\n",
              "      <td>NaN</td>\n",
              "      <td>NaN</td>\n",
              "      <td>-1.0</td>\n",
              "      <td>NaN</td>\n",
              "      <td>NaN</td>\n",
              "    </tr>\n",
              "  </tbody>\n",
              "</table>\n",
              "<p>8177 rows × 7 columns</p>\n",
              "</div>"
            ],
            "text/plain": [
              "             Date_Time  Temp1  Temp2  Temp3  Temp4  Temp1-Temp3  Temp1-Temp4\n",
              "0     20-07-2021 14:28    NaN    NaN    5.0    NaN          NaN          NaN\n",
              "1     20-07-2021 14:29    NaN    NaN    4.0    NaN          NaN          NaN\n",
              "2     20-07-2021 14:33    NaN    NaN    3.0    NaN          NaN          NaN\n",
              "3     20-07-2021 14:33    NaN    NaN    3.0    NaN          NaN          NaN\n",
              "4     20-07-2021 14:34    NaN    NaN    3.0    NaN          NaN          NaN\n",
              "...                ...    ...    ...    ...    ...          ...          ...\n",
              "8172  17-08-2021 12:44    NaN    NaN    NaN   -1.0          NaN          NaN\n",
              "8173  17-08-2021 13:14    NaN    NaN    NaN   -1.0          NaN          NaN\n",
              "8174  17-08-2021 13:21    NaN    NaN    NaN   -1.0          NaN          NaN\n",
              "8175  17-08-2021 14:13    NaN    NaN    0.0    NaN          NaN          NaN\n",
              "8176  17-08-2021 15:04    NaN    NaN    NaN   -1.0          NaN          NaN\n",
              "\n",
              "[8177 rows x 7 columns]"
            ]
          },
          "metadata": {},
          "execution_count": 3
        }
      ]
    },
    {
      "cell_type": "code",
      "metadata": {
        "id": "cGhk8B54Jfrb"
      },
      "source": [
        "sns.set(color_codes=True)\n"
      ],
      "execution_count": null,
      "outputs": []
    },
    {
      "cell_type": "code",
      "metadata": {
        "id": "8RXL7LnvJfrv",
        "colab": {
          "base_uri": "https://localhost:8080/",
          "height": 301
        },
        "outputId": "657c7318-808f-45ab-ca47-9d2efdb578cb"
      },
      "source": [
        "sns.scatterplot(f['Date_Time'],f['Temp1'], label=\"PT100_2_Temp\")\n",
        "sns.scatterplot(f['Date_Time'],f['Temp2'], label=\"SHT85_Temp\")\n",
        "sns.scatterplot(f['Date_Time'],f['Temp3'], label=\"sults_764\")\n",
        "sns.scatterplot(f['Date_Time'],f['Temp4'], label=\"sults_440\")\n",
        "plt.ylabel('Temperature')\n",
        "plt.title('Temperature Comparison')\n",
        "plt.legend()\n",
        "plt.savefig(\"tcomparison.png\", bbox_inches=\"tight\", pad_inches=1, transparent=True)\n",
        "plt.show()"
      ],
      "execution_count": null,
      "outputs": [
        {
          "output_type": "display_data",
          "data": {
            "image/png": "[encoded data removed]",
            "text/plain": [
              "<Figure size 432x288 with 1 Axes>"
            ]
          },
          "metadata": {}
        }
      ]
    },
    {
      "cell_type": "code",
      "metadata": {
        "id": "5RDhdJJaJfrx",
        "colab": {
          "base_uri": "https://localhost:8080/",
          "height": 34
        },
        "outputId": "b64c32f5-e0c1-4379-a240-f1375cd37739"
      },
      "source": [
        "plt.savefig(\"plot.png\", bbox_inches=\"tight\", pad_inches=1, transparent=True)"
      ],
      "execution_count": null,
      "outputs": [
        {
          "output_type": "display_data",
          "data": {
            "text/plain": [
              "<Figure size 432x288 with 0 Axes>"
            ]
          },
          "metadata": {}
        }
      ]
    },
    {
      "cell_type": "code",
      "metadata": {
        "id": "nzQehd1sJfr8"
      },
      "source": [
        ""
      ],
      "execution_count": null,
      "outputs": []
    }
  ]
}